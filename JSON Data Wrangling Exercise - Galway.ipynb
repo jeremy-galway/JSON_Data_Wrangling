{
 "cells": [
  {
   "cell_type": "code",
   "execution_count": 1,
   "metadata": {
    "collapsed": true
   },
   "outputs": [],
   "source": [
    "'''\n",
    "Jeremy Galway\n",
    "JSON Data wrangling Exercise\n",
    "9/7/2017\n",
    "\n",
    "Edits: Suppressed dataframe and series callouts for GitHub\n",
    "'''\n",
    "\n",
    "#Import needed modules\n",
    "import pandas as pd\n",
    "import json\n",
    "from pandas.io.json import json_normalize"
   ]
  },
  {
   "cell_type": "code",
   "execution_count": 2,
   "metadata": {},
   "outputs": [],
   "source": [
    "#Import JSON file into dataframe df\n",
    "df = pd.read_json('world_bank_projects.json')\n",
    "df;"
   ]
  },
  {
   "cell_type": "code",
   "execution_count": 3,
   "metadata": {},
   "outputs": [],
   "source": [
    "#Practice Importing aas String and Normalizing // Side question, cleaner to load as string? \n",
    "json_string = json.load((open('world_bank_projects.json')))\n",
    "json_normalize(json_string);\n",
    "#Side question realized, imports same as dataframe when normalized. Possible to clean up? I.e. country_namecode"
   ]
  },
  {
   "cell_type": "code",
   "execution_count": 4,
   "metadata": {
    "scrolled": true
   },
   "outputs": [],
   "source": [
    "#identify column headers\n",
    "df.columns;"
   ]
  },
  {
   "cell_type": "code",
   "execution_count": 5,
   "metadata": {},
   "outputs": [
    {
     "data": {
      "text/plain": [
       "500"
      ]
     },
     "execution_count": 5,
     "metadata": {},
     "output_type": "execute_result"
    }
   ],
   "source": [
    "#Determine number of entries\n",
    "len(df)"
   ]
  },
  {
   "cell_type": "code",
   "execution_count": 6,
   "metadata": {
    "collapsed": true
   },
   "outputs": [],
   "source": [
    "#Find top 10 countries with the most projects"
   ]
  },
  {
   "cell_type": "code",
   "execution_count": 7,
   "metadata": {},
   "outputs": [
    {
     "data": {
      "text/plain": [
       "People's Republic of China         19\n",
       "Republic of Indonesia              19\n",
       "Socialist Republic of Vietnam      17\n",
       "Republic of India                  16\n",
       "Republic of Yemen                  13\n",
       "Nepal                              12\n",
       "People's Republic of Bangladesh    12\n",
       "Kingdom of Morocco                 12\n",
       "Republic of Mozambique             11\n",
       "Africa                             11\n",
       "Name: countryname, dtype: int64"
      ]
     },
     "execution_count": 7,
     "metadata": {},
     "output_type": "execute_result"
    }
   ],
   "source": [
    "#Count the most number of appearances from countryname, restrict to top 10\n",
    "df.countryname.value_counts().head(10)"
   ]
  },
  {
   "cell_type": "code",
   "execution_count": 8,
   "metadata": {
    "scrolled": true
   },
   "outputs": [],
   "source": [
    "#Find top 10 major project themes"
   ]
  },
  {
   "cell_type": "code",
   "execution_count": 9,
   "metadata": {
    "scrolled": true
   },
   "outputs": [],
   "source": [
    "#Might be easiest to pull just the major theme information from the json string\n",
    "mpt = json.load(open('world_bank_projects.json'))\n",
    "mpt = json_normalize(mpt, 'mjtheme_namecode', 'id') #Load ID for unique identifier per project"
   ]
  },
  {
   "cell_type": "code",
   "execution_count": 10,
   "metadata": {
    "scrolled": true
   },
   "outputs": [],
   "source": [
    "#Verify data\n",
    "mpt;"
   ]
  },
  {
   "cell_type": "code",
   "execution_count": 11,
   "metadata": {
    "scrolled": true
   },
   "outputs": [
    {
     "data": {
      "text/plain": [
       "name                                          code\n",
       "                                              1         5\n",
       "                                              10       14\n",
       "                                              11       27\n",
       "                                              2        15\n",
       "                                              3         3\n",
       "                                              4        16\n",
       "                                              5         5\n",
       "                                              6        10\n",
       "                                              7        11\n",
       "                                              8        13\n",
       "                                              9         3\n",
       "Economic management                           1        33\n",
       "Environment and natural resources management  11      223\n",
       "Financial and private sector development      4       130\n",
       "Human development                             8       197\n",
       "Public sector governance                      2       184\n",
       "Rule of law                                   3        12\n",
       "Rural development                             10      202\n",
       "Social dev/gender/inclusion                   7       119\n",
       "Social protection and risk management         6       158\n",
       "Trade and integration                         5        72\n",
       "Urban development                             9        47\n",
       "dtype: int64"
      ]
     },
     "execution_count": 11,
     "metadata": {},
     "output_type": "execute_result"
    }
   ],
   "source": [
    "#Look at series to see what needs to be added\n",
    "mpt.groupby(['name','code']).size()"
   ]
  },
  {
   "cell_type": "code",
   "execution_count": 12,
   "metadata": {},
   "outputs": [
    {
     "data": {
      "text/plain": [
       "1499"
      ]
     },
     "execution_count": 12,
     "metadata": {},
     "output_type": "execute_result"
    }
   ],
   "source": [
    "#Double-checking for correct length\n",
    "len(mpt)"
   ]
  },
  {
   "cell_type": "code",
   "execution_count": 13,
   "metadata": {},
   "outputs": [
    {
     "data": {
      "text/plain": [
       "500"
      ]
     },
     "execution_count": 13,
     "metadata": {},
     "output_type": "execute_result"
    }
   ],
   "source": [
    "#Double checking - verify against dataframe df length to ensure correct number of entries\n",
    "len(mpt.groupby('id').max())"
   ]
  },
  {
   "cell_type": "code",
   "execution_count": 14,
   "metadata": {
    "scrolled": true
   },
   "outputs": [],
   "source": [
    "#Now we need to fill in any missing theme names\n",
    "#Set theme code assignments\n",
    "equiv = {   '1':'Economic Management',\n",
    "            '2':'Public sector governance',\n",
    "            '3':'Rule of law',\n",
    "            '4':'Financial and private sector development',\n",
    "            '5':'Trade and integration',\n",
    "            '6':'Social protection and risk management',\n",
    "            '7':'Social dev/gender/inclusion',\n",
    "            '8':'Human Development',\n",
    "            '9':'Urban Development',\n",
    "            '10':'Rural development',\n",
    "            '11':'Environment and natural resources management'}\n",
    "#Fill empty fields with code equivalents\n",
    "mpt['name'] = mpt['code']\n",
    "#Convert column to string type\n",
    "mpt['name'].astype(str)\n",
    "#Perform map\n",
    "mpt['name'] = mpt['name'].map(equiv)\n",
    "#Display completed dataframe\n",
    "mpt;"
   ]
  },
  {
   "cell_type": "code",
   "execution_count": 15,
   "metadata": {
    "scrolled": true
   },
   "outputs": [
    {
     "data": {
      "text/plain": [
       "name\n",
       "Environment and natural resources management    250\n",
       "Rural development                               216\n",
       "Human Development                               210\n",
       "Public sector governance                        199\n",
       "Social protection and risk management           168\n",
       "Financial and private sector development        146\n",
       "Social dev/gender/inclusion                     130\n",
       "Trade and integration                            77\n",
       "Urban Development                                50\n",
       "Economic Management                              38\n",
       "dtype: int64"
      ]
     },
     "execution_count": 15,
     "metadata": {},
     "output_type": "execute_result"
    }
   ],
   "source": [
    "#Determine the top 10 major themes\n",
    "#Group by name, count number of entries and sort from most to least (descending)\n",
    "mpt.groupby(['name']).size().sort_values(ascending=False).head(10)"
   ]
  },
  {
   "cell_type": "code",
   "execution_count": null,
   "metadata": {},
   "outputs": [],
   "source": []
  }
 ],
 "metadata": {
  "kernelspec": {
   "display_name": "Python 3",
   "language": "python",
   "name": "python3"
  },
  "language_info": {
   "codemirror_mode": {
    "name": "ipython",
    "version": 3
   },
   "file_extension": ".py",
   "mimetype": "text/x-python",
   "name": "python",
   "nbconvert_exporter": "python",
   "pygments_lexer": "ipython3",
   "version": "3.6.1"
  }
 },
 "nbformat": 4,
 "nbformat_minor": 2
}
